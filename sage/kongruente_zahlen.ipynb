{
 "cells": [
  {
   "cell_type": "code",
   "execution_count": 48,
   "id": "ee14ae9d",
   "metadata": {},
   "outputs": [],
   "source": [
    "# Kongruente Zahlen absuchen\n",
    "# (a,b,c) = (u^2-v^2,2uv,u^2+v^2)\n",
    "# n = ab/2\n",
    "# Zähler und Nenner in u,v sind < N\n",
    "\n",
    "\n",
    "N = 10\n",
    "nset = Set()\n",
    "for b in range(1,N) : \n",
    "    for a in range(1,N) : \n",
    "        if gcd(a,b) > 1 : \n",
    "            continue\n",
    "        v = QQ(a)/QQ(b)\n",
    "        for d in range(1,N) : \n",
    "            for c in range(floor(d*v)+1,N) : \n",
    "                if gcd(c,d) > 1 : \n",
    "                    continue \n",
    "                u = QQ(c)/QQ(d)\n",
    "                \n",
    "                n = (u^2-v^2)*u*v\n",
    "                if n.is_integer() : \n",
    "                    nset = nset.union(Set([n]))\n",
    "        \n",
    "l = list(nset)\n",
    "\n",
    "# Liste sortieren\n",
    "l.sort()"
   ]
  },
  {
   "cell_type": "code",
   "execution_count": 49,
   "id": "18869b27",
   "metadata": {},
   "outputs": [
    {
     "name": "stdout",
     "output_type": "stream",
     "text": [
      "[6, 15, 21, 24, 30, 45, 60, 84, 96, 120, 126, 180, 210, 240, 255, 330, 336, 384, 480, 486, 504, 546, 630, 720, 741, 840, 924, 960, 1155, 1224, 1320, 1344, 1386, 1449, 1536, 1560, 1575, 1944, 2016, 2340, 2430, 2520]\n"
     ]
    }
   ],
   "source": [
    "print(l)"
   ]
  },
  {
   "cell_type": "code",
   "execution_count": null,
   "id": "8ea1a919",
   "metadata": {},
   "outputs": [],
   "source": []
  }
 ],
 "metadata": {
  "kernelspec": {
   "display_name": "SageMath 9.5",
   "language": "sage",
   "name": "sagemath"
  },
  "language_info": {
   "codemirror_mode": {
    "name": "ipython",
    "version": 3
   },
   "file_extension": ".py",
   "mimetype": "text/x-python",
   "name": "python",
   "nbconvert_exporter": "python",
   "pygments_lexer": "ipython3",
   "version": "3.10.4"
  }
 },
 "nbformat": 4,
 "nbformat_minor": 5
}
