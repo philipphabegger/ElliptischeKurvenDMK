{
 "cells": [
  {
   "cell_type": "code",
   "execution_count": 109,
   "id": "c86450b0",
   "metadata": {},
   "outputs": [],
   "source": [
    "def produce_random_pair(N) : \n",
    "    R = IntegerModRing(N)\n",
    "    a = R.random_element()\n",
    "    x = R.random_element()\n",
    "    y = R.random_element()\n",
    "    b = y^2 - x^3 - a*x\n",
    "    disc = -16*(4*a^2+27*b^3)\n",
    "    \n",
    "    if disc.is_unit() == False : \n",
    "        return [gcd(ZZ(disc),N)]\n",
    "        \n",
    "    return [[a,b],[x,y]]\n",
    "\n",
    "\n",
    "def add_points(E,P,Q) : \n",
    "    a = E[0]\n",
    "    b = E[1]\n",
    "    x1 = P[0]\n",
    "    y1 = P[1]\n",
    "    x2 = Q[0]\n",
    "    y2 = Q[1]\n",
    "    \n",
    "    if (x2-x1).is_unit() == False :         \n",
    "        raise ValueError('nonunit',x2-x1)\n",
    "        \n",
    "    x3 = (-x1^3 + x2*x1^2 + x2^2*x1 + y1^2 - 2*y2*y1 -x2^3 + y2^2)/(x2-x1)^2\n",
    "    y3 = ((-y1 + 2*y2)*x1^3 - 3*y2*x2*x1^2 + 3*x2^2*y1*x1 + y1^3 - 3*y2*y1^2 + (-2*x2^3 + 3*y2^2)*y1 + y2*x2^3 - y2^3)\\\n",
    "        / (x2-x1)^3\n",
    "    return [x3,y3]\n",
    "\n",
    "def duplicate_point(E,P) :     \n",
    "    a = E[0]\n",
    "    b = E[1]\n",
    "    x = P[0]\n",
    "    y = P[1]\n",
    "        \n",
    "    if (2*y).is_unit() == False :\n",
    "        raise ValueError('nonunit',2*y)        \n",
    "        \n",
    "    xx = (9*x^4+6*a*x^2-8*y^2*x+a^2)/(4*y^2)\n",
    "    yy = (-27*x^6-27*a*x^4+36*y^2*x^3-9*a^2*x^2+12*a*y^2*x-8*y^4-a^3)\\\n",
    "         /(8*y^3)\n",
    "    return [xx,yy]\n",
    "\n",
    "def mult_point(E,P,k) : \n",
    "    \n",
    "    s = Integer(k).binary() # 2-adische Entwicklung\n",
    "    s = s[::-1]    # Reihenfolge der Ziffern umkehren \n",
    "    Q = 0\n",
    "\n",
    "    for c in s :\n",
    "    \n",
    "        if c=='1' : \n",
    "            if Q == 0 : \n",
    "                Q = P\n",
    "            else : \n",
    "                Q = add_points(E,P,Q)\n",
    "        \n",
    "        P = duplicate_point(E,P)            \n",
    "    \n",
    "    return Q"
   ]
  },
  {
   "cell_type": "code",
   "execution_count": 117,
   "id": "21cdacc6",
   "metadata": {},
   "outputs": [],
   "source": [
    "def Lenstra(N) :\n",
    "    nKurven = 0 \n",
    "    nMult = 0\n",
    "    while True : \n",
    "        # Ein zufälliges Paar ([a,b],P) wird konstuiert. \n",
    "        # Dabei entspricht [a,b] einer elliptische Kurve über dem Ring Z/NZ\n",
    "        # und P ist ein Punkt ub E\n",
    "        ret = produce_random_pair(N)\n",
    "        nKurven += 1\n",
    "        \n",
    "                \n",
    "        if len(ret) == 1 :            \n",
    "            # Falls die zufällige elliptische Kurve gar keine ist, dann \n",
    "            # ist die Diskriminante nicht invertierbar modulo N.\n",
    "            if ret[0] < N :\n",
    "                # Hier haben wir Glück, ein echter Teiler von N\n",
    "                # wurde gefunden\n",
    "                print(\"Primfaktor von\",N,\"gefunden:\",ret[0],\"(Variante A)\")\n",
    "                print(\"Anzahl Kurven:\",nKurven)\n",
    "                print(\"Anzahl Multiplikationen:\",nVerdoppelung)\n",
    "                return ret[0]\n",
    "            \n",
    "        if len(ret) == 2:            \n",
    "            E = ret[0]\n",
    "            P = ret[1]\n",
    "            \n",
    "            # Der Einfachheitshalber suchen bis 10!\n",
    "            for k in range(1,10) : \n",
    "                try:\n",
    "                    nMult += 1                    \n",
    "                    P = mult_point(E,P,k)\n",
    "                    \n",
    "                except ValueError as err :\n",
    "                    if len(err.args) != 2 or err.args[0] != 'nonunit' : \n",
    "                        break\n",
    "                        \n",
    "                    x = gcd(ZZ(err.args[1]),N)\n",
    "                    if x < N :                                         \n",
    "                        print(\"Primfaktor von\",N,\"gefunden:\",x,\"(Variante B)\")\n",
    "                        print(\"Anzahl Kurven:\",nKurven)\n",
    "                        print(\"Anzahl Multiplikationen:\",nMult)\n",
    "                        return x\n",
    "\n",
    "            "
   ]
  },
  {
   "cell_type": "code",
   "execution_count": 118,
   "id": "3b704527",
   "metadata": {},
   "outputs": [
    {
     "data": {
      "text/plain": [
       "637396210351"
      ]
     },
     "execution_count": 118,
     "metadata": {},
     "output_type": "execute_result"
    }
   ],
   "source": [
    "p = random_prime(1000000)\n",
    "q = random_prime(1000000)\n",
    "N = p*q\n",
    "N"
   ]
  },
  {
   "cell_type": "code",
   "execution_count": 119,
   "id": "b4081882",
   "metadata": {},
   "outputs": [
    {
     "name": "stdout",
     "output_type": "stream",
     "text": [
      "Primfaktor von 637396210351 gefunden: 963211 (Variante B)\n",
      "Anzahl Kurven: 1107\n",
      "Anzahl Multiplikationen: 9961\n"
     ]
    }
   ],
   "source": [
    "l = Lenstra(N)"
   ]
  },
  {
   "cell_type": "code",
   "execution_count": null,
   "id": "ebded404",
   "metadata": {},
   "outputs": [],
   "source": []
  },
  {
   "cell_type": "code",
   "execution_count": null,
   "id": "b043eecf",
   "metadata": {},
   "outputs": [],
   "source": []
  }
 ],
 "metadata": {
  "kernelspec": {
   "display_name": "SageMath 9.5",
   "language": "sage",
   "name": "sagemath"
  },
  "language_info": {
   "codemirror_mode": {
    "name": "ipython",
    "version": 3
   },
   "file_extension": ".py",
   "mimetype": "text/x-python",
   "name": "python",
   "nbconvert_exporter": "python",
   "pygments_lexer": "ipython3",
   "version": "3.10.4"
  }
 },
 "nbformat": 4,
 "nbformat_minor": 5
}
