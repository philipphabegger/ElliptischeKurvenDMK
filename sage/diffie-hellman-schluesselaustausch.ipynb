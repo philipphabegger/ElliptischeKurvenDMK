{
 "cells": [
  {
   "cell_type": "code",
   "execution_count": 35,
   "id": "84f44269",
   "metadata": {},
   "outputs": [],
   "source": [
    "def get_random_pair() : # Primzahl zwischen 5 und 10^6\n",
    "    while True : \n",
    "        p = random_prime(10^6,5)\n",
    "        assert(is_prime(p))\n",
    "    \n",
    "    # Endlicher Körper mit p Elementen\n",
    "        a = ZZ.random_element(p)    \n",
    "        x = ZZ.random_element(p)\n",
    "        y = ZZ.random_element(p)\n",
    "        \n",
    "        b = y^2 - (x^3+a*x)\n",
    "        Delta = -2^4*(4*a^3+27*b^2)\n",
    "        if gcd(Delta,p) == 1 : \n",
    "            break \n",
    "            \n",
    "    K = GF(p)\n",
    "    E = EllipticCurve([K(a),K(b)])\n",
    "    P = E([K(x),K(y)])\n",
    "    return E,K,P"
   ]
  },
  {
   "cell_type": "code",
   "execution_count": 58,
   "id": "711d789d",
   "metadata": {},
   "outputs": [
    {
     "name": "stdout",
     "output_type": "stream",
     "text": [
      "Elliptic Curve defined by y^2 = x^3 + 22719*x + 476852 over Finite Field of size 538397\n",
      "E(IF_p) hat Ordnung 539248 = 2^4 * 33703 .\n",
      "P = (200650 : 368610 : 1)  hat Ordnung 269624 = 2^3 * 33703 als Element von E(IF_p).\n"
     ]
    }
   ],
   "source": []
  },
  {
   "cell_type": "code",
   "execution_count": 180,
   "id": "63411143",
   "metadata": {},
   "outputs": [],
   "source": [
    "?ZZ.random_element"
   ]
  },
  {
   "cell_type": "code",
   "execution_count": 189,
   "id": "800360a0",
   "metadata": {},
   "outputs": [],
   "source": [
    "class key_exchange_user : \n",
    "    def __init__(self,E,P) : \n",
    "        assert(P in E)\n",
    "        \n",
    "        self.E = E\n",
    "        self.P = P\n",
    "    \n",
    "        self.p = E.base_field().characteristic()\n",
    "        \n",
    "        # Nun den geheimen Faktor berechnen\n",
    "        # Wir fordern hier explizit, dass der Faktor \n",
    "        # teilerfremd zur Ordnung von P ist\n",
    "        while True : \n",
    "            self.__a = ZZ.random_element(1,2*self.p)    \n",
    "            if gcd(self.__a,P.order()) == 1: \n",
    "                break \n",
    "        \n",
    "        # Und mit dem öffentlichen Punkt P multiplizieren\n",
    "        self.aP = self.__a * P\n",
    "        \n",
    "        # Noch haben wir mit dem Gegenüber kein gemeinsames Geheimnis\n",
    "        self.__common_secret = None\n",
    "        \n",
    "    def show(self) : \n",
    "        return self.__a\n",
    "    \n",
    "    def receive(self,P) : \n",
    "        if P in self.E :\n",
    "            #Das gemeinsame Geheimnis ist die x-Koordinate des Punktes\n",
    "            self.__common_secret = (self.__a * P)[0]\n",
    "            \n",
    "    def reveal_common_secret(self) : \n",
    "        print(self.__common_secret)\n",
    "        \n",
    "def perform_key_exchange(A,B) :        \n",
    "    if isinstance(A,key_exchange_user) and isinstance(B,key_exchange_user) :         \n",
    "        A.receive(B.aP)\n",
    "        B.receive(A.aP)        "
   ]
  },
  {
   "cell_type": "code",
   "execution_count": 196,
   "id": "7569a09e",
   "metadata": {},
   "outputs": [
    {
     "name": "stdout",
     "output_type": "stream",
     "text": [
      "Elliptic Curve defined by y^2 = x^3 + 35182*x + 13534 over Finite Field of size 45893\n",
      "E(IF_p) hat Ordnung 46185 = 3 * 5 * 3079 .\n",
      "P = (13303 : 31919 : 1)  hat Ordnung 9237 = 3 * 3079 als Element von E(IF_p).\n",
      "\n",
      "Man kann nicht auf das Geheimnis zugreifen.\n"
     ]
    }
   ],
   "source": [
    "E,K,P = get_random_pair()\n",
    "    \n",
    "print(E)\n",
    "print('E(IF_p) hat Ordnung',E.order(),'=',E.order().factor(),'.')\n",
    "print('P =',P,' hat Ordnung',P.order(),'=',P.order().factor(),'als Element von E(IF_p).')    \n",
    "    \n",
    "A=key_exchange_user(E,P)\n",
    "B=key_exchange_user(E,P)\n",
    "\n",
    "\n",
    "try : \n",
    "    print(A.__secret)\n",
    "except : \n",
    "    print(\"\\nMan kann nicht auf das Geheimnis zugreifen.\")\n",
    "    \n",
    "perform_key_exchange(A,B)\n"
   ]
  },
  {
   "cell_type": "code",
   "execution_count": 197,
   "id": "80c198f8",
   "metadata": {},
   "outputs": [
    {
     "name": "stdout",
     "output_type": "stream",
     "text": [
      "20165\n",
      "20165\n"
     ]
    }
   ],
   "source": [
    "A.reveal_common_secret()\n",
    "B.reveal_common_secret()"
   ]
  }
 ],
 "metadata": {
  "kernelspec": {
   "display_name": "SageMath 9.5",
   "language": "sage",
   "name": "sagemath"
  },
  "language_info": {
   "codemirror_mode": {
    "name": "ipython",
    "version": 3
   },
   "file_extension": ".py",
   "mimetype": "text/x-python",
   "name": "python",
   "nbconvert_exporter": "python",
   "pygments_lexer": "ipython3",
   "version": "3.10.4"
  }
 },
 "nbformat": 4,
 "nbformat_minor": 5
}
